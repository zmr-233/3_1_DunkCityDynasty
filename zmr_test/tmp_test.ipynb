{
 "cells": [
  {
   "cell_type": "markdown",
   "metadata": {},
   "source": [
    "## torch.utils.tensorboard模块\n",
    "\n",
    "主要使用 **@O `torch.utils.tensorboard.writer`** 对象进行操作"
   ]
  },
  {
   "cell_type": "markdown",
   "metadata": {},
   "source": [
    "### 🔵`SummaryWriter`"
   ]
  },
  {
   "cell_type": "markdown",
   "metadata": {},
   "source": [
    "#### 🔹`SummaryWriter(log_dir = None， comment = ''， purge_step = None， max_queue = 10， flush_secs = 120， filename_suffix = '')`\n",
    "\n",
    "- **_@param `log_dir (str)`_**<br>\n",
    "保存目录的位置。默认为`runs/CURRENT_DATETIME_HOSTNAME`，每次运行后都会更改。使用分层的文件夹结构，便于轻松比较不同的运行。例如，为每一个新实验传入 ‘runs/exp1’, ‘runs/exp2’ 等，以便在它们之间进行比较\n",
    "\n",
    "- _@param `comment (str)`_<br>\n",
    "添加到默认 log_dir 的注释后缀。如果已分配 log_dir，则此参数无效\n",
    "\n",
    "- **_@param `purge_step (int)`_**<br>\n",
    "当日志在步骤T+X 崩溃并在步骤T 重启时，任何 global_step 大于或等于T 的事件都将被清除，并从 TensorBoard 中隐藏\n",
    "\n",
    "- _@param `max_queue (int)`_<br>\n",
    "在其中一个‘add’调用强制将事件和摘要刷新到磁盘之前，等待处理的事件和摘要的队列大小\n",
    "    > 用于批量写入磁盘，当达到max_queue时才会写入磁盘，所以有时候不强制调用`writer.close()`就会导致数据不被写入磁盘\n",
    "\n",
    "- _@param `flush_secs (int)`_<br>\n",
    "每隔多少秒刷新等待处理的事件和摘要到磁盘。默认为每两分钟一次\n",
    "\n",
    "- _@param `filename_suffix (str)`_<br>\n",
    "添加到 log_dir 目录中所有事件文件名的后缀\n",
    "\n",
    "使用举例：\n",
    "\n",
    "---"
   ]
  },
  {
   "cell_type": "code",
   "execution_count": null,
   "metadata": {},
   "outputs": [],
   "source": [
    "from torch.utils.tensorboard import SummaryWriter\n",
    "\n",
    "# create a summary writer with automatically generated folder name.\n",
    "writer = SummaryWriter()\n",
    "# folder location: runs/May04_22-14-54_s-MacBook-Pro.local/\n",
    "\n",
    "# create a summary writer using the specified folder name.\n",
    "writer = SummaryWriter(\"my_experiment\")\n",
    "# folder location: my_experiment\n",
    "\n",
    "# create a summary writer with comment appended.\n",
    "writer = SummaryWriter(comment=\"LR_0.1_BATCH_16\")\n",
    "# folder location: runs/May04_22-14-54_s-MacBook-Pro.localLR_0.1_BATCH_16/"
   ]
  },
  {
   "cell_type": "markdown",
   "metadata": {},
   "source": [
    "##### 🔺`add_scalar(tag, scalar_value, global_step=None, walltime=None, new_style=False, double_precision=False)`\n",
    "\n",
    "- **_@param `tag (str)`_**<br>\n",
    "数据标识符(标签)\n",
    "\n",
    "- **_@param `scalar_value`_**<br>\n",
    "要保存的值\n",
    "\n",
    "- **_@param `global_step(int)`_**<br>\n",
    "要记录的全局步骤值\n",
    "\n",
    "- **_@param `walltime(float)`_**<br>\n",
    "可选的覆盖默认的 walltime（time.time()）值，即当前时间，可以手动设置时间戳，即事件发生后的经过的秒数\n",
    "\n",
    "- **_@param `new_style (boolean)`_**<br>\n",
    "是否使用新样式(默认True)\n",
    "\n",
    "使用举例：\n",
    "\n",
    "---"
   ]
  },
  {
   "cell_type": "code",
   "execution_count": null,
   "metadata": {},
   "outputs": [],
   "source": [
    "from torch.utils.tensorboard import SummaryWriter\n",
    "writer = SummaryWriter()\n",
    "x = range(100)\n",
    "for i in x:\n",
    "    writer.add_scalar('y=2x', i * 2, i)\n",
    "writer.close()"
   ]
  },
  {
   "cell_type": "markdown",
   "metadata": {},
   "source": [
    "##### 🔺`add_scalars(main_tag, tag_scalar_dict, global_step=None, walltime=None)`\n",
    "用于批量添加数据\n",
    "- **_@param `main_tag (str)`_**<br>\n",
    "父tag名称\n",
    "\n",
    "- **_@param `tag_scalar_dict (dict)`_**<br>\n",
    "key-value键值对组成子标签\n",
    "\n",
    "- **_@param `global_step (int)`_**<br>\n",
    "- **_@param `walltime (float)`_**<br>\n",
    "\n",
    "使用举例:\n",
    "\n",
    "---"
   ]
  },
  {
   "cell_type": "code",
   "execution_count": null,
   "metadata": {},
   "outputs": [],
   "source": [
    "from torch.utils.tensorboard import SummaryWriter\n",
    "writer = SummaryWriter()\n",
    "r = 5\n",
    "for i in range(100):\n",
    "    writer.add_scalars('run_14h', {'xsinx':i*np.sin(i/r),\n",
    "                                    'xcosx':i*np.cos(i/r),\n",
    "                                    'tanx': np.tan(i/r)}, i)\n",
    "writer.close()\n",
    "# This call adds three values to the same scalar plot with the tag\n",
    "# 'run_14h' in TensorBoard's scalar section."
   ]
  },
  {
   "cell_type": "markdown",
   "metadata": {},
   "source": [
    "##### 🔺`add_histogram(tag, values, global_step=None, bins='tensorflow', walltime=None, max_bins=None)`\n",
    "向摘要中添加一个直方图\n",
    "- **_@param `tag (str)`_**<br>\n",
    "- **_@param `values`_**<br>\n",
    "- **_@param `global_step (int)`_**<br>\n",
    "- **_@param `bins (str)`_**<br>\n",
    "直方图类型，通常有如下类型 {‘tensorflow’,’auto’, ‘fd’, …}。这决定了如何制作分箱子。可以在以下链接中找到其他选项[直方图类型](https://docs.scipy.org/doc/numpy/reference/generated/numpy.histogram.html)\n",
    "\n",
    "- **_@param `walltime (float)`_**<br>\n",
    "- **_@param ``_**<br>\n",
    "\n",
    "使用举例:\n",
    "\n",
    "---"
   ]
  },
  {
   "cell_type": "code",
   "execution_count": null,
   "metadata": {},
   "outputs": [],
   "source": [
    "from torch.utils.tensorboard import SummaryWriter\n",
    "import numpy as np\n",
    "writer = SummaryWriter()\n",
    "for i in range(10):\n",
    "    x = np.random.random(1000)\n",
    "    writer.add_histogram('distribution centers', x + i, i)\n",
    "writer.close()"
   ]
  },
  {
   "cell_type": "markdown",
   "metadata": {},
   "source": [
    "##### 🔺`add_image(tag, img_tensor, global_step=None, walltime=None, dataformats='CHW')`\n",
    "添加图片\n",
    "\n",
    "- **_@param `tag (str)`_**<br>\n",
    "- **_@param `img_tensor`_**<br>\n",
    "图像张量，通常是$(3,H,W)$，其中3是RGB三个颜色，当然也接受(1,H,W)或者(H,W,3)，于是就需要指定类型`CHW,HWC,HW`\n",
    "- **_@param `global_step (int)`_**<br>\n",
    "- **_@param `walltime (float)`_**<br>\n",
    "- **_@param `dataformats (str)`_**<br>\n",
    "图像张量类型，通常是`CHW, HWC, HW, WH`\n",
    "\n",
    "使用举例:\n",
    "\n",
    "---"
   ]
  },
  {
   "cell_type": "code",
   "execution_count": null,
   "metadata": {},
   "outputs": [],
   "source": [
    "from torch.utils.tensorboard import SummaryWriter\n",
    "import numpy as np\n",
    "img = np.zeros((3, 100, 100))\n",
    "img[0] = np.arange(0, 10000).reshape(100, 100) / 10000\n",
    "img[1] = 1 - np.arange(0, 10000).reshape(100, 100) / 10000\n",
    "\n",
    "img_HWC = np.zeros((100, 100, 3))\n",
    "img_HWC[:, :, 0] = np.arange(0, 10000).reshape(100, 100) / 10000\n",
    "img_HWC[:, :, 1] = 1 - np.arange(0, 10000).reshape(100, 100) / 10000\n",
    "\n",
    "writer = SummaryWriter()\n",
    "writer.add_image('my_image', img, 0)\n",
    "\n",
    "# If you have non-default dimension setting, set the dataformats argument.\n",
    "writer.add_image('my_image_HWC', img_HWC, 0, dataformats='HWC')\n",
    "writer.close()"
   ]
  },
  {
   "cell_type": "markdown",
   "metadata": {},
   "source": [
    "##### 🔺`add_images(tag, img_tensor, global_step=None, walltime=None, dataformats='NCHW')`\n",
    "批量添加图像张量\n",
    "- **_@param `tag (str)`_**<br>\n",
    "- **_@param `img_tensor `_**<br>\n",
    "这里的图像张量默认为$(N,3,H,W)$\n",
    "- **_@param `global_step (int)`_**<br>\n",
    "- **_@param `walltime (float)`_**<br>\n",
    "\n",
    "使用举例:\n",
    "\n",
    "---"
   ]
  },
  {
   "cell_type": "code",
   "execution_count": null,
   "metadata": {},
   "outputs": [],
   "source": [
    "from torch.utils.tensorboard import SummaryWriter\n",
    "import numpy as np\n",
    "\n",
    "img_batch = np.zeros((16, 3, 100, 100))\n",
    "for i in range(16):\n",
    "    img_batch[i, 0] = np.arange(0, 10000).reshape(100, 100) / 10000 / 16 * i\n",
    "    img_batch[i, 1] = (1 - np.arange(0, 10000).reshape(100, 100) / 10000) / 16 * i\n",
    "\n",
    "writer = SummaryWriter()\n",
    "writer.add_images('my_image_batch', img_batch, 0)\n",
    "writer.close()"
   ]
  },
  {
   "cell_type": "markdown",
   "metadata": {},
   "source": [
    "##### 🔺`add_figure(tag, figure, global_step=None, close=True, walltime=None)`\n",
    "用于添加matplotlib figure对象，要用时候再记 \n",
    "[官方手册](https://pytorch.org/docs/stable/tensorboard.html#torch.utils.tensorboard.writer.SummaryWriter.add_figure)\n",
    "\n",
    "- **_@param ``_**<br>\n",
    "---"
   ]
  },
  {
   "cell_type": "markdown",
   "metadata": {},
   "source": [
    "##### 🔺`add_video(tag, vid_tensor, global_step=None, fps=4, walltime=None)`\n",
    "用于添加视频，要用时候再记 \n",
    "[官方手册](https://pytorch.org/docs/stable/tensorboard.html#torch.utils.tensorboard.writer.SummaryWriter.add_video)\n",
    "\n",
    "- **_@param ``_**<br>\n",
    "---"
   ]
  },
  {
   "cell_type": "markdown",
   "metadata": {},
   "source": [
    "##### 🔺`add_video(tag, vid_tensor, global_step=None, fps=4, walltime=None)`\n",
    "用于添加音频，要用时候再记 \n",
    "[官方手册](https://pytorch.org/docs/stable/tensorboard.html#torch.utils.tensorboard.writer.SummaryWriter.add_video)\n",
    "\n",
    "- **_@param ``_**<br>\n",
    "---"
   ]
  },
  {
   "cell_type": "markdown",
   "metadata": {},
   "source": [
    "##### 🔺`add_text(tag, text_string, global_step=None, walltime=None)`\n",
    "用于添加文本信息\n",
    "- **_@param `tag (str)`_**<br>\n",
    "- **_@param `text_string (str)`_**<br>\n",
    "实际保存的String字符串\n",
    "- **_@param `global_step (int)`_**<br>\n",
    "- **_@param `walltime (float)`_**<br>\n",
    "\n",
    "使用举例:\n",
    "```python\n",
    "writer.add_text('lstm', 'This is an lstm', 0)\n",
    "writer.add_text('rnn', 'This is an rnn', 10)\n",
    "```\n",
    "---"
   ]
  },
  {
   "cell_type": "markdown",
   "metadata": {},
   "source": [
    "##### 🔺`add_embedding(mat, metadata=None, label_img=None, global_step=None, tag='default', metadata_header=None)`\n",
    "\n",
    "添加嵌入式投影仪数据，用于可视化高维数据在低维空间中的表示(将特征向量映射到三维中)\n",
    "- **_@param `mat (torch.Tensor or numpy.ndarray)`_**<br>\n",
    "    一个矩阵，其中每一行都是数据点的特征向量\n",
    "    > mat.shape应该为$(N,D)$，其中N为个数，D为维度\n",
    "\n",
    "- **_@param `metadata (list)`_**<br>\n",
    "    一个标签列表，每个元素都会被转换为字符串\n",
    "\n",
    "- **_@param `label_img`_**<br>\n",
    "    与每个数据点对应的图像\n",
    "    > label_img:$(N,C,H,W)$，注意图像是可选参数，可有可无因为这个只是对应于mat特征矩阵的\"标签\"\n",
    "\n",
    "- **_@param `global_step (int)`_**<br>\n",
    "    要记录的全局步骤值\n",
    "- **_@param `tag (str)`_**<br>\n",
    "    嵌入的名称\n",
    "\n",
    "使用举例:\n",
    "可以看到图像有十分美丽的三维结构：\n",
    "\n",
    "---"
   ]
  },
  {
   "cell_type": "code",
   "execution_count": null,
   "metadata": {},
   "outputs": [],
   "source": [
    "import keyword\n",
    "import torch\n",
    "meta = []\n",
    "while len(meta)<100:\n",
    "    meta = meta+keyword.kwlist # get some strings\n",
    "meta = meta[:100]\n",
    "\n",
    "for i, v in enumerate(meta):\n",
    "    meta[i] = v+str(i)\n",
    "\n",
    "label_img = torch.rand(100, 3, 10, 32)\n",
    "for i in range(100):\n",
    "    label_img[i]*=i/100.0\n",
    "\n",
    "writer.add_embedding(torch.randn(100, 5), metadata=meta, label_img=label_img)\n",
    "writer.add_embedding(torch.randn(100, 5), label_img=label_img)\n",
    "writer.add_embedding(torch.randn(100, 5), metadata=meta)"
   ]
  },
  {
   "cell_type": "markdown",
   "metadata": {},
   "source": [
    "##### 🔺`add_pr_curve(tag, labels, predictions, global_step=None, num_thresholds=127, weights=None, walltime=None)`\n",
    "\n",
    "用于添加精确率-召回率曲线的函数。这个函数允许你跟踪模型在不同置信度阈值下的精确率和召回率，从而更好地评估和调整模型:\n",
    "- **_@param `tag (str)`_**<br>\n",
    "- **_@param `labels (torch.Tensor, numpy.ndarray, or string/blobname) `_**<br>\n",
    "真实的标签，应该是一个形状为 [batch_size] 的数组，其中包含值 0 或 1\n",
    "\n",
    "- **_@param `predictions (torch.Tensor, numpy.ndarray, or string/blobname)`_**<br>\n",
    "模型的预测置信度，应该是一个形状为 [batch_size] 的数组，其中的值在 0 和 1 之间\n",
    "\n",
    "- **_@param `global_step (int)`_**<br>\n",
    "- **_@param `num_thresholds (int)`_**<br>\n",
    " 要使用的阈值数量。默认是 127\n",
    "- **_@param `walltime (float)`_**<br>\n",
    "\n",
    "使用举例:\n",
    "\n",
    "---"
   ]
  },
  {
   "cell_type": "markdown",
   "metadata": {},
   "source": [
    "附录：精确率-召回率 & 置信域\n",
    "1. **精确率-召回率 (Precision-Recall)**\n",
    "\n",
    "- **精确率 (Precision)**: 在所有被模型预测为正例的样本中，真正是正例的比例。\n",
    "  $$\\text{精确率} = \\frac{\\text{真正例 (TP)}}{\\text{真正例 (TP) + 假正例 (FP)}}$$\n",
    "\n",
    "- **召回率 (Recall)**: 在所有真正的正例样本中，被模型正确预测为正例的比例。\n",
    "  $$\\text{召回率} = \\frac{\\text{真正例 (TP)}}{\\text{真正例 (TP) + 假负例 (FN)}}$$\n",
    "\n",
    "这两个指标通常用于评估模型在正例预测上的性能，尤其是在类别不平衡的情况下\n",
    "\n",
    "2. **当你想要对比模型在不同的置信度阈值下的性能时**\n",
    "在很多机器学习模型中，特别是分类任务，模型为每个样本输出一个置信度分数，这个分数表示该样本属于某一类的概率。通常，我们会设置一个阈值（如0.5），当置信度分数高于这个阈值时，我们判断样本为正例，否则为负例。\n",
    "\n",
    "但是，这个阈值是可以调整的。根据不同的应用场景，我们可能需要更高的精确率或召回率。例如，当我们希望尽量避免假阳性时，我们可能会提高阈值以获得更高的精确率，但这可能会牺牲召回率\n",
    "\n",
    "通过绘制精确率-召回率曲线，我们可以很容易地看到模型在不同置信度阈值下的性能，从而帮助我们选择最佳的阈值\n"
   ]
  },
  {
   "cell_type": "code",
   "execution_count": null,
   "metadata": {},
   "outputs": [],
   "source": [
    "from torch.utils.tensorboard import SummaryWriter\n",
    "import numpy as np\n",
    "labels = np.random.randint(2, size=100)  # binary label\n",
    "predictions = np.random.rand(100)\n",
    "writer = SummaryWriter()\n",
    "writer.add_pr_curve('pr_curve', labels, predictions, 0)\n",
    "writer.close()"
   ]
  },
  {
   "cell_type": "markdown",
   "metadata": {},
   "source": [
    "##### 🔺`add_custom_scalars(layout)`\n",
    "创建一个特殊的图表，通过在“标量”中收集图表标签。\n",
    "> 注意，每个SummaryWriter()对象只能调用此函数一次--因为它只为 tensorboard 提供元数据!!**所以该函数可以在训练循环之前或之后调用**\n",
    "\n",
    "- **_@param `layout (dict) `_**<br>\n",
    "1. {类别名称: 图表}其中图表也是一个字典:如上就有两个类别(台湾&美国)，一共三个图表(台股,道琼斯,纳斯达克)\n",
    "2. {图表名称: [属性列表]}属性列表:<br>\n",
    "第一个元素是图表的类型（Multiline或Margin之一）<br>\n",
    "第二个元素是一个列表，其中包含你在add_scalar函数中使用的标签，这些标签将被收集到新图表中\n",
    "\n",
    "使用举例:\n",
    "> 注意add_custom_scalars是针对已有日志进行的分析，相当于就提供了一个比较的框架，仅此而已\n",
    "\n",
    "---"
   ]
  },
  {
   "cell_type": "code",
   "execution_count": null,
   "metadata": {},
   "outputs": [],
   "source": [
    "from torch.utils.tensorboard import SummaryWriter\n",
    "import numpy as np\n",
    "writer = SummaryWriter()\n",
    "\n",
    "for n_iter in range(100):\n",
    "    writer.add_scalar('Loss/train', np.random.random(), n_iter)\n",
    "    writer.add_scalar('Loss/test', np.random.random(), n_iter)\n",
    "    writer.add_scalar('Accuracy/train', np.random.random(), n_iter)\n",
    "    writer.add_scalar('Accuracy/test', np.random.random(), n_iter)\n",
    "\n",
    "layout = {\n",
    "    'Loss': {\n",
    "        'Train vs. Test': ['Multiline', ['Loss/train', 'Loss/test']]\n",
    "    },\n",
    "    'Accuracy': {\n",
    "        'Train vs. Test': ['Multiline', ['Accuracy/train', 'Accuracy/test']]\n",
    "    }\n",
    "}\n",
    "\n",
    "writer.add_custom_scalars(layout)"
   ]
  },
  {
   "cell_type": "code",
   "execution_count": 4,
   "metadata": {},
   "outputs": [],
   "source": [
    "from torch.utils.tensorboard import SummaryWriter\n",
    "import numpy as np\n",
    "writer = SummaryWriter()\n",
    "\n",
    "layout = {'台湾':{'台股':['Multiline',['台股/0050', '台股/2330']]},\n",
    "          '美国':{'道琼斯':['Margin',   ['道琼斯/aaa', '道琼斯/bbb', '道琼斯/ccc']],\n",
    "                 '纳斯达克':['Margin',   ['纳斯达克/aaa', '纳斯达克/bbb', '纳斯达克/ccc']]}}\n",
    "\n",
    "writer.add_custom_scalars(layout)"
   ]
  },
  {
   "cell_type": "markdown",
   "metadata": {},
   "source": [
    "##### 🔺`add_mesh(tag, vertices, colors=None, faces=None, config_dict=None, global_step=None, walltime=None)`\n",
    "(图形学/三维渲染)将网格或3D点云添加到TensorBoard。这个可视化基于Three.js，所以它允许用户与渲染的对象进行交互。除了基本的定义，如顶点、面之外，用户还可以提供相机参数、光照条件等\n",
    "\n",
    "[详细信息](https://threejs.org/docs/index.html#manual/en/introduction/Creating-a-scene)\n",
    "- **_@param `tag (str)`_**<br>\n",
    "- **_@param `vertices (torch.Tensor)`_**<br>\n",
    "顶点的3D坐标列表\n",
    "- **_@param `colors (torch.Tensor)`_**<br>\n",
    "每个顶点的颜色\n",
    "- **_@param `faces (torch.Tensor) `_**<br>\n",
    "每个三角形内的顶点索引(可选)\n",
    "- **_@param `config_dict`_**<br>\n",
    "带有ThreeJS类名和配置的字典\n",
    "- **_@param `global_step (int)`_**<br>\n",
    "- **_@param `walltime (float)`_**<br>\n",
    "\n",
    "shape:\n",
    "- **vertices**: $(B, N, 3)$。 $(批次大小, 顶点数量, 通道数)$\n",
    "- **colors**: $(B, N, 3)$。对于 uint8 类型，值应该在 [0,255] 范围内；对于 float 类型，值应该在 [0,1] 范围内\n",
    "- **faces**: $(B, N, 3)$。对于 uint8 类型，值应该在 [0, 顶点数量] 范围内\n",
    "\n",
    "使用举例:\n",
    "\n",
    "---"
   ]
  },
  {
   "cell_type": "code",
   "execution_count": null,
   "metadata": {},
   "outputs": [],
   "source": [
    "from torch.utils.tensorboard import SummaryWriter\n",
    "vertices_tensor = torch.as_tensor([\n",
    "    [1, 1, 1],\n",
    "    [-1, -1, 1],\n",
    "    [1, -1, -1],\n",
    "    [-1, 1, -1],\n",
    "], dtype=torch.float).unsqueeze(0)\n",
    "colors_tensor = torch.as_tensor([\n",
    "    [255, 0, 0],\n",
    "    [0, 255, 0],\n",
    "    [0, 0, 255],\n",
    "    [255, 0, 255],\n",
    "], dtype=torch.int).unsqueeze(0)\n",
    "faces_tensor = torch.as_tensor([\n",
    "    [0, 2, 3],\n",
    "    [0, 3, 1],\n",
    "    [0, 1, 2],\n",
    "    [1, 3, 2],\n",
    "], dtype=torch.int).unsqueeze(0)\n",
    "\n",
    "writer = SummaryWriter()\n",
    "writer.add_mesh('my_mesh', vertices=vertices_tensor, colors=colors_tensor, faces=faces_tensor)\n",
    "\n",
    "writer.close()"
   ]
  },
  {
   "cell_type": "markdown",
   "metadata": {},
   "source": [
    "##### 🔺`add_hparams(hparam_dict, metric_dict, hparam_domain_discrete=None, run_name=None)`\n",
    "\n",
    "添加一组超参数比较\n",
    "\n",
    "- **_@param `hparam_dict (dict)`_**<br>\n",
    "字典中的每一个键值对是超参数的名称及其对应的值。该值的类型可以是bool、string、float、int或None之一\n",
    "\n",
    "- **_@param `metric_dict (dict)`_**<br>\n",
    "字典中的每一个键值对是指标的名称及其对应的值。注意，这里使用的键在tensorboard记录中应该是唯一的。否则，您通过add_scalar添加的值将会在hparam插件中显示。在大多数情况下，这是不希望的\n",
    "\n",
    "- **_@param `hparam_domain_discrete`_**<br>\n",
    "（可选[Dict[str, List[Any]]]）一个包含超参数名称和它们可以持有的所有离散值的字典\n",
    "\n",
    "- **_@param `run_name (str)`_**<br>\n",
    "运行的名称，作为日志目录的一部分包含在内。如果未指定，将使用当前的时间戳\n",
    "\n",
    "使用举例:\n",
    "\n",
    "---"
   ]
  },
  {
   "cell_type": "code",
   "execution_count": 5,
   "metadata": {},
   "outputs": [],
   "source": [
    "from torch.utils.tensorboard import SummaryWriter\n",
    "with SummaryWriter() as w:\n",
    "    for i in range(5):\n",
    "        w.add_hparams({'lr': 0.1*i, 'bsize': i}, #这里lr / bsize是超参数\n",
    "                      {'hparam/accuracy': 10*i, 'hparam/loss': 10*i})\n",
    "        "
   ]
  }
 ],
 "metadata": {
  "kernelspec": {
   "display_name": "4_DCD380",
   "language": "python",
   "name": "python3"
  },
  "language_info": {
   "codemirror_mode": {
    "name": "ipython",
    "version": 3
   },
   "file_extension": ".py",
   "mimetype": "text/x-python",
   "name": "python",
   "nbconvert_exporter": "python",
   "pygments_lexer": "ipython3",
   "version": "3.8.18"
  }
 },
 "nbformat": 4,
 "nbformat_minor": 2
}
